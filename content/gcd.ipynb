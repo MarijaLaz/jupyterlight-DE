{
 "cells": [
  {
   "cell_type": "raw",
   "id": "d6bcbc91-1952-42bf-b4b2-0af6e0504cc1",
   "metadata": {
    "tags": []
   },
   "source": [
    "# ASSIGNMENT CONFIG\n",
    "init_cell: false\n",
    "export_cell: false"
   ]
  },
  {
   "cell_type": "markdown",
   "id": "84b16411-5915-4a56-a79f-251db0f2ef1f",
   "metadata": {
    "tags": []
   },
   "source": [
    "# Brief Introduction of GCD\n",
    "## Definition\n",
    "**GCD (Greatest Common Divisor)**, which is also known as the **Highest Common Factor (HCF)**, is a mathematical expression to find the largest number which can divide both the numbers without a remainder. For example, the gcd of 25 and 15 is 5.\n",
    "\n",
    "## Built-in Method\n",
    "In Python, the **math** module offers a function **math.gcd()** to return the greatest common divisor of the two integers. Run the following example to test this method."
   ]
  },
  {
   "cell_type": "code",
   "execution_count": 1,
   "id": "a0f50138-649b-4b47-a254-8e99adaf0209",
   "metadata": {},
   "outputs": [
    {
     "data": {
      "text/plain": [
       "5"
      ]
     },
     "execution_count": 1,
     "metadata": {},
     "output_type": "execute_result"
    }
   ],
   "source": [
    "import math\n",
    "\n",
    "math.gcd(25, 15)"
   ]
  },
  {
   "cell_type": "markdown",
   "id": "e59249f2-cf3a-4582-8d6f-07bf2d826f76",
   "metadata": {
    "tags": []
   },
   "source": [
    "## Question"
   ]
  },
  {
   "cell_type": "code",
   "execution_count": 2,
   "id": "6df9ba7a-4af5-481b-93df-f72d31b9cbbf",
   "metadata": {},
   "outputs": [],
   "source": [
    "import otter\n",
    "grader = otter.Notebook()"
   ]
  },
  {
   "cell_type": "raw",
   "id": "2a7da2c4-25f5-4696-a705-dd896d3ccbc5",
   "metadata": {},
   "source": [
    "# BEGIN QUESTION\n",
    "name: gcd"
   ]
  },
  {
   "cell_type": "markdown",
   "id": "134d8ffa-d61a-42ee-a470-34b989f4d5a9",
   "metadata": {},
   "source": [
    "Given the definition of gcd, now it's your time to define a gcd function using your own algorithm. Please complete the cell below. After that, you can use the grader.check() method to verify your solution."
   ]
  },
  {
   "cell_type": "raw",
   "id": "a40a02ac-edd2-4c47-89ca-8da34606223a",
   "metadata": {},
   "source": [
    "# BEGIN SOLUTION"
   ]
  },
  {
   "cell_type": "code",
   "execution_count": 3,
   "id": "c846c089-22f7-4bfc-b0ca-296a7480ec75",
   "metadata": {},
   "outputs": [
    {
     "data": {
      "text/plain": [
       "21"
      ]
     },
     "execution_count": 3,
     "metadata": {},
     "output_type": "execute_result"
    }
   ],
   "source": [
    "def func_gcd(int1, int2):\n",
    "    # BEGIN SOLUTION\n",
    "    int_min = int2 if int1 > int2 else int2\n",
    "    for i in range(1, int_min + 1):\n",
    "        if((int1 % i == 0) and (int2 % i == 0)):\n",
    "            gcd = i\n",
    "    return gcd\n",
    "    # END SOLUTION\n",
    "func_gcd(105, 924) # IGNORE"
   ]
  },
  {
   "cell_type": "raw",
   "id": "b5a324fe-07c4-4392-a8b2-b46a34302319",
   "metadata": {},
   "source": [
    "# END SOLUTION"
   ]
  },
  {
   "cell_type": "raw",
   "id": "705c3b1d-52e1-4801-b858-7578f176bf7b",
   "metadata": {},
   "source": [
    "# BEGIN TESTS"
   ]
  },
  {
   "cell_type": "code",
   "execution_count": 4,
   "id": "ad3ce92d-9b08-45f2-8460-0936ac08f043",
   "metadata": {},
   "outputs": [
    {
     "data": {
      "text/plain": [
       "True"
      ]
     },
     "execution_count": 4,
     "metadata": {},
     "output_type": "execute_result"
    }
   ],
   "source": [
    "\"\"\" # BEGIN TEST CONFIG\n",
    "failure_message: Oops... Maybe you should go back to the definition of GCD and double check your solution to generate the same output as the example.\n",
    "\"\"\" # END TEST CONFIG\n",
    "func_gcd(25, 15) == 5"
   ]
  },
  {
   "cell_type": "code",
   "execution_count": 5,
   "id": "177b7b26-5a8a-4e12-bf36-cb52d56c7574",
   "metadata": {},
   "outputs": [
    {
     "data": {
      "text/plain": [
       "True"
      ]
     },
     "execution_count": 5,
     "metadata": {},
     "output_type": "execute_result"
    }
   ],
   "source": [
    "\"\"\" # BEGIN TEST CONFIG\n",
    "failure_message: Your func_gcd(25, 15) works as expected! However, is there anything missing in your solution?\n",
    "\"\"\" # END TEST CONFIG\n",
    "func_gcd(2, 3) == 1"
   ]
  },
  {
   "cell_type": "code",
   "execution_count": 6,
   "id": "c277db4c-6116-4948-a9cf-1c8a78fe0d77",
   "metadata": {
    "tags": []
   },
   "outputs": [
    {
     "data": {
      "text/plain": [
       "True"
      ]
     },
     "execution_count": 6,
     "metadata": {},
     "output_type": "execute_result"
    }
   ],
   "source": [
    "\"\"\" # BEGIN TEST CONFIG\n",
    "failure_message: Almost! One more thing, what is the gcd of a and b if a can divide b?\n",
    "\"\"\" # END TEST CONFIG\n",
    "func_gcd(8, 24) == 8"
   ]
  },
  {
   "cell_type": "code",
   "execution_count": 7,
   "id": "9f95d2d2-4eaa-4bb3-9b68-9ea8c23e9114",
   "metadata": {},
   "outputs": [
    {
     "data": {
      "text/plain": [
       "True"
      ]
     },
     "execution_count": 7,
     "metadata": {},
     "output_type": "execute_result"
    }
   ],
   "source": [
    "\"\"\" # BEGIN TEST CONFIG\n",
    "hidden: true\n",
    "\"\"\" # END TEST CONFIG\n",
    "func_gcd(105, 924) == 21"
   ]
  },
  {
   "cell_type": "raw",
   "id": "925fbfed-ae69-49a3-8495-f7fe707535fe",
   "metadata": {},
   "source": [
    "# END TESTS"
   ]
  },
  {
   "cell_type": "raw",
   "id": "9d49b57f-d7df-4496-9eec-fe6bc3b69035",
   "metadata": {},
   "source": [
    "# END QUESTION"
   ]
  }
 ],
 "metadata": {
  "kernelspec": {
   "display_name": "Python",
   "language": "python",
   "name": "python3"
  },
  "language_info": {
   "codemirror_mode": {
    "name": "ipython",
    "version": 3
   },
   "file_extension": ".py",
   "mimetype": "text/x-python",
   "name": "python",
   "nbconvert_exporter": "python",
   "pygments_lexer": "ipython3",
   "version": "3.8.10"
  }
 },
 "nbformat": 4,
 "nbformat_minor": 5
}
